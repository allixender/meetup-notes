{
 "cells": [
  {
   "cell_type": "markdown",
   "metadata": {
    "collapsed": true
   },
   "source": [
    "GeoPandas intro\n",
    "===============\n",
    "\n",
    "http://geopandas.org/index.html\n",
    "\n",
    "GeoPandas is an open source project to make working with geospatial data in python easier.\n",
    "GeoPandas extends the datatypes used by pandas to allow spatial operations on geometric types.\n",
    "Geometric operations are performed by shapely.\n",
    "Geopandas further depends on fiona for file access and descartes and matplotlib for plotting.\n",
    "\n",
    "We need to install the Geopandas python library and two libraries that we use to read and write from Excel-Spredsheets.\n",
    "\n",
    "```shell\n",
    "(py34) conda install -c conda-forge geopandas\n",
    "\n",
    "(py34) conda install openpyxl xlrd\n",
    "```\n",
    "\n",
    "Maybe we also need \"openpyxl\", but let's try to not mix too many libs for same/similar purposes.\n",
    "\n",
    "Table of Contents\n",
    "=================\n",
    "\n",
    "1. [Basic Geoplot Shapefile](01%20Basic%20Geoplot%20Shapefile.ipynb)\n",
    "2. [Load CSV and make GeoDataFrame](02%20Load%20CSV%20and%20make%20GeoDataFrame.ipynb)\n",
    "3. [Load and join from Excel sheets](03%20Load%20and%20join%20from%20Excel%20sheets.ipynb)\n",
    "\n",
    "* Exercise: [Nested Data Frames - Storm episodes and events](Nested%20DataFrames%20-%20Storms.ipynb)\n",
    "\n",
    "More stuff\n",
    "==========\n",
    "\n",
    "* 75000 city weather info csv files (for big data in 2.) https://storage.googleapis.com/smart-backup/cities-weather-yearly.zip\n",
    "* nice tutorials to Geopandas http://jonathansoma.com/lede/foundations-2017/classes/geopandas/mapping-with-geopandas/\n",
    "\n",
    "License\n",
    "=======\n",
    "\n",
    "<a rel=\"license\" href=\"http://creativecommons.org/licenses/by-sa/4.0/\"><img alt=\"Creative Commons License\" style=\"border-width:0\" src=\"http://i.creativecommons.org/l/by-sa/4.0/88x31.png\" /></a><br />\n",
    "\n",
    "This work is licensed under a [Creative Commons Attribution-ShareAlike 4.0 International License](http://creativecommons.org/licenses/by-sa/4.0/)\n",
    "\n"
   ]
  },
  {
   "cell_type": "code",
   "execution_count": null,
   "metadata": {
    "collapsed": true
   },
   "outputs": [],
   "source": []
  }
 ],
 "metadata": {
  "kernelspec": {
   "display_name": "Python 3",
   "language": "python",
   "name": "python3"
  },
  "language_info": {
   "codemirror_mode": {
    "name": "ipython",
    "version": 3
   },
   "file_extension": ".py",
   "mimetype": "text/x-python",
   "name": "python",
   "nbconvert_exporter": "python",
   "pygments_lexer": "ipython3",
   "version": "3.4.5"
  }
 },
 "nbformat": 4,
 "nbformat_minor": 1
}
