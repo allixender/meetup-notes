{
 "cells": [
  {
   "cell_type": "markdown",
   "metadata": {
    "collapsed": true
   },
   "source": [
    "# 01 Intro - Python in a Notebook\n",
    "\n",
    "This repository contains a curated collection of Jupyter Notebooks of \n",
    "introductory materials about programming in Python.\n",
    "\n",
    "\n",
    "Table of Contents\n",
    "=================\n",
    "\n",
    "* [Chapter 1: Variables, Strings and Numbers](01%20Variable%20Strings%20and%20Numbers.ipynb)\n",
    "  <br>In this section, you will learn to store information in variables.\n",
    "* [Chapter 2: Lists, Tuples and Sets](02%20List%20and%20Tuples%20and%20Sets.ipynb)\n",
    "  <br>In this notebook, you will learn to store more than one valuable in a single variable.\n",
    "* [Chapter 3: If Statements](03%20If%20Statements.ipynb)\n",
    "  <br> In this section, you will learn how to test for certain conditions, and then respond in appropriate ways to those conditions.\n",
    "* [Chapter 4: Loops, Iteration Schemas and Input](04%20While%20Loops%20and%20User%20input.ipynb)\n",
    "  <br>While loops are really useful because they let your program run until a user decides to quit the program. \n",
    "  They set up an infinite loop that runs until the user does something to end the loop. This section also introduces the first way to get input from your program's users.\n",
    "* [Chapter 5: Dictionaries (Data Structure)](05%20Dictionaries.ipynb)\n",
    "  <br> Dictionaries allow us to store connected bits of information. For example, you might store a person's name and age together.\n",
    "* [Chapter 6: Introducing Functions](06%20Introduction%20to%20Functions.ipynb)\n",
    "  <br> Functions mean less work for us as programmers, and effective use of functions results in code that is less error-prone.\n",
    "* [Chapter 7: Classes and OOP](07%20Classes%20and%20OOP.ipynb)\n",
    "  <br> In this section you will learn about the last major data structure, classes. Classes are quite unlike the other data types, in that they are much more flexible. \n",
    "  Classes allow you to define the information and behavior that characterize anything you want to model in your program.\n",
    "* [Chapter 8: Exceptions](08%20Exceptions.ipynb)\n",
    "  <br> Exceptions which are events that can modify the *flow* of control through a program.  \n",
    "  In Python, exceptions are triggered automatically on errors, and they can be triggered and intercepted by your code.\n",
    "  \n",
    "* [Appendix: Python Coding Style](Python%20Coding%20Style.ipynb)\n",
    "  <br> You are now starting to write Python programs that have a little substance. Your programs are growing a little longer, and there is a little more structure to your programs. \n",
    "  This is a really good time to consider your overall style in writing code.\n",
    "\n",
    "## Running Notebooks ##\n",
    "\n",
    "All you need to do to play notebooks is to open a Terminal, and type the following command in your python-jupyter folder \n",
    "\n",
    "    jupyter notebook\n",
    "    \n",
    "\n",
    "## Goals ##\n",
    "\n",
    "Available notebooks are intended to aid both students and teachers in learning and teaching \n",
    "Python programming, respectively. \n",
    "\n",
    "In more details, the goals of this project are:\n",
    "\n",
    "- Introduce students as quickly as possible to the basics of Python programming;\n",
    "- Introduce best practice as early as possible, while remaining accessible to students with no background in programming at all;\n",
    "- Provide teachers an easy-to-use material about programming in Python to be used in their lectures\n",
    "\n",
    "## License and Sharing Material\n",
    "\n",
    "(C) Valerio Maggio https://github.com/leriomaggio/python-in-a-notebook\n",
    "\n",
    "<a rel=\"license\" href=\"http://creativecommons.org/licenses/by-sa/4.0/\"><img alt=\"Creative Commons License\" style=\"border-width:0\" src=\"https://i.creativecommons.org/l/by-sa/4.0/80x15.png\" /></a><br />This work is licensed under a <a rel=\"license\" href=\"http://creativecommons.org/licenses/by-sa/4.0/\">Creative Commons Attribution-ShareAlike 4.0 International License</a>."
   ]
  },
  {
   "cell_type": "code",
   "execution_count": null,
   "metadata": {
    "collapsed": true
   },
   "outputs": [],
   "source": []
  }
 ],
 "metadata": {
  "kernelspec": {
   "display_name": "Python 3",
   "language": "python",
   "name": "python3"
  },
  "language_info": {
   "codemirror_mode": {
    "name": "ipython",
    "version": 3
   },
   "file_extension": ".py",
   "mimetype": "text/x-python",
   "name": "python",
   "nbconvert_exporter": "python",
   "pygments_lexer": "ipython3",
   "version": "3.4.5"
  }
 },
 "nbformat": 4,
 "nbformat_minor": 1
}
