{
 "cells": [
  {
   "cell_type": "markdown",
   "metadata": {
    "collapsed": true
   },
   "source": [
    "Pandas intro\n",
    "============\n",
    "\n",
    "[pandas](http://pandas.pydata.org/) is a Python library for doing\n",
    "data analysis. It's really fast and lets you do exploratory work\n",
    "incredibly quickly.\n",
    "\n",
    "The goal of this cookbook is to give you some concrete examples for\n",
    "getting started with pandas. The [docs](http://pandas.pydata.org/pandas-docs/stable/)\n",
    "are really comprehensive. However, I've often had people\n",
    "tell me that they have some trouble getting started, so these are\n",
    "examples with real-world data, and all the bugs and weirdness\n",
    "that entails.\n",
    "\n",
    "I'm working with 3 datasets right now\n",
    "\n",
    "* 311 calls in New York\n",
    "* How many people were on Montréal's bike paths in 2012\n",
    "* Montreal's weather for 2012, hourly\n",
    "\n",
    "It comes with batteries (data) included, so you can try out all the\n",
    "examples right away.\n",
    "\n",
    "Table of Contents\n",
    "=================\n",
    "\n",
    "* [Chapter 1: Reading from a CSV](Chapter%201%20-%20Reading%20from%20a%20CSV.ipynb)\n",
    "  <br> Reading your data into pandas is pretty much the easiest thing. Even when the encoding is wrong!\n",
    "* [Chapter 2: Selecting data & finding the most common complaint type](Chapter%202%20-%20Selecting%20data%20&%20finding%20the%20most%20common%20complaint%20type.ipynb)\n",
    "  <br>It's not totally obvious how to select data from a pandas dataframe. Here I explain the basics (how to take slices and get columns)\n",
    "* [Chapter 3: Which borough has the most noise complaints? (or, more selecting data)](Chapter%203%20-%20Which%20borough%20has%20the%20most%20noise%20complaints%20%28or%2C%20more%20selecting%20data%29.ipynb)\n",
    "  <br>Here we get into serious slicing and dicing and learn how to filter dataframes in complicated ways, really fast.\n",
    "* [Chapter 4: Find out on which weekday people bike the most with groupby and aggregate](Chapter%204%20-%20Find%20out%20on%20which%20weekday%20people%20bike%20the%20most%20with%20groupby%20and%20aggregate.ipynb)\n",
    "  <br> The groupby/aggregate is seriously my favorite thing about pandas and I use it all the time. You should probably read this.\n",
    "* [Chapter 5: Combining dataframes and plotting Canadian weather data](Chapter%205%20-%20Combining%20dataframes%20and%20plotting%20Canadian%20weather%20data.ipynb)\n",
    "  <br>Here you get to find out if it's cold in Montreal in the winter (spoiler: yes). Web scraping with pandas is fun!\n",
    "* [Chapter 6: String operations! Which month was the snowiest?](Chapter%206%20-%20String%20Operations-%20Which%20month%20was%20the%20snowiest.ipynb)\n",
    "  <br> Strings with pandas are great. It has all these vectorized string operations and they're the best. We will turn a bunch of strings containing \"Snow\" into vectors of numbers in a trice.\n",
    "* [Chapter 7: Cleaning up messy data](Chapter%207%20-%20Cleaning%20up%20messy%20data.ipynb)\n",
    "  <br> Cleaning up messy data is never a joy, but with pandas it's easier\n",
    "* [Chapter 8: Parsing Unix timestamps](Chapter%208%20-%20How%20to%20deal%20with%20timestamps.ipynb)\n",
    "  <br> This is basically a quick trick that took me 2 days to figure out.\n",
    "* [Chapter 9 - Loading data from SQL databases](Chapter%209%20-%20Loading%20data%20from%20SQL%20databases.ipynb)\n",
    "  <br> How to load data from an SQL database into Pandas, with examples using SQLite3\n",
    "* [Chapter 10 - Data Studio SOS Jupyter](Chapter%2010%20-%20Data%20Studio%20SOS%20Jupyter.ipynb)\n",
    "  <br> How to load data from an OGC Sensor Observation Service, native XML and OWSlib\n",
    "\n",
    "License\n",
    "=======\n",
    "\n",
    "(C) Julia Evans https://github.com/jvns/pandas-cookbook\n",
    "\n",
    "<a rel=\"license\" href=\"http://creativecommons.org/licenses/by-sa/4.0/\"><img alt=\"Creative Commons License\" style=\"border-width:0\" src=\"http://i.creativecommons.org/l/by-sa/4.0/88x31.png\" /></a><br />\n",
    "\n",
    "This work is licensed under a [Creative Commons Attribution-ShareAlike 4.0 International License](http://creativecommons.org/licenses/by-sa/4.0/)\n",
    "\n"
   ]
  },
  {
   "cell_type": "code",
   "execution_count": null,
   "metadata": {
    "collapsed": true
   },
   "outputs": [],
   "source": []
  }
 ],
 "metadata": {
  "kernelspec": {
   "display_name": "Python 3",
   "language": "python",
   "name": "python3"
  },
  "language_info": {
   "codemirror_mode": {
    "name": "ipython",
    "version": 3
   },
   "file_extension": ".py",
   "mimetype": "text/x-python",
   "name": "python",
   "nbconvert_exporter": "python",
   "pygments_lexer": "ipython3",
   "version": "3.4.5"
  }
 },
 "nbformat": 4,
 "nbformat_minor": 1
}
